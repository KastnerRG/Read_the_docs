{
 "cells": [
  {
   "cell_type": "code",
   "execution_count": null,
   "id": "da2378d6",
   "metadata": {},
   "outputs": [],
   "source": [
    "from pynq import Overlay\n",
    "from pynq import allocate\n",
    "import numpy as np\n"
   ]
  },
  {
   "cell_type": "code",
   "execution_count": null,
   "id": "6f0e9995",
   "metadata": {},
   "outputs": [],
   "source": [
    "ol = Overlay(\"./design_1.bit\")\n",
    "ol.ip_dict"
   ]
  },
  {
   "cell_type": "code",
   "execution_count": null,
   "id": "f57de000",
   "metadata": {},
   "outputs": [],
   "source": [
    "dma0 = ol.axi_dma_0\n",
    "dma0_send = ol.axi_dma_0.sendchannel\n",
    "dma0_recv = ol.axi_dma_0.recvchannel\n",
    "\n",
    "dma1 = ol.axi_dma_1\n",
    "dma1_send = ol.axi_dma_1.sendchannel\n",
    "dma1_recv = ol.axi_dma_1.recvchannel\n",
    "\n",
    "hls_ip = ol.axis_fp_example_0\n",
    "hls_ip.register_map"
   ]
  },
  {
   "cell_type": "code",
   "execution_count": null,
   "id": "46843992",
   "metadata": {},
   "outputs": [],
   "source": [
    "CONTROL_REGISTER = 0x0\n",
    "hls_ip.write(CONTROL_REGISTER, 0x1) # 0x81 will set bit 0\n",
    "hls_ip.register_map"
   ]
  },
  {
   "cell_type": "code",
   "execution_count": null,
   "id": "cc90ea3d",
   "metadata": {},
   "outputs": [],
   "source": [
    "NUM_SAMPLES = 20\n",
    "input_buffer0 = allocate(shape=(NUM_SAMPLES,), dtype=np.float32)\n",
    "input_buffer1 = allocate(shape=(NUM_SAMPLES,), dtype=np.float32)\n",
    "output_buffer0 = allocate(shape=(NUM_SAMPLES,), dtype=np.float32)\n",
    "output_buffer1 = allocate(shape=(NUM_SAMPLES,), dtype=np.float32)\n",
    "\n",
    "a = [i for i in range(NUM_SAMPLES)]\n",
    "a1 = np.float32(a)\n",
    "a2 = a1*2 + 1.0\n",
    "np.copyto(input_buffer0, a1)\n",
    "np.copyto(input_buffer1, a2)\n"
   ]
  },
  {
   "cell_type": "code",
   "execution_count": null,
   "id": "526466b9",
   "metadata": {},
   "outputs": [],
   "source": [
    "for i in range(NUM_SAMPLES):\n",
    "    print(input_buffer0[i], input_buffer1[i], output_buffer0[i], output_buffer1[i])"
   ]
  },
  {
   "cell_type": "code",
   "execution_count": null,
   "id": "af19e7b3",
   "metadata": {},
   "outputs": [],
   "source": [
    "dma0_recv.transfer(output_buffer0)\n",
    "dma1_recv.transfer(output_buffer1)\n",
    "dma0_send.transfer(input_buffer0)\n",
    "dma1_send.transfer(input_buffer1)\n",
    "dma0_send.wait()\n",
    "dma1_send.wait()\n",
    "dma0_recv.wait()\n",
    "dma1_recv.wait()"
   ]
  },
  {
   "cell_type": "code",
   "execution_count": null,
   "id": "c9a3879d",
   "metadata": {},
   "outputs": [],
   "source": [
    "dma0.register_map"
   ]
  },
  {
   "cell_type": "code",
   "execution_count": null,
   "id": "dd4fb824",
   "metadata": {},
   "outputs": [],
   "source": [
    "dma1.register_map"
   ]
  },
  {
   "cell_type": "code",
   "execution_count": null,
   "id": "9ababf3b",
   "metadata": {},
   "outputs": [],
   "source": [
    "# out = in1 + in2 + 5\n",
    "for i in range(NUM_SAMPLES):\n",
    "    if np.absolute(output_buffer0[i] - input_buffer0[i] - input_buffer1[i]) < 0.001:\n",
    "        print(input_buffer0[i], '+', input_buffer1[i],  'is roughly', output_buffer0[i])\n",
    "    else:\n",
    "        print('error!', input_buffer0[i], '+', input_buffer1[i], 'should not be', output_buffer0[i])\n",
    "    if np.absolute(output_buffer1[i] - input_buffer0[i] + input_buffer1[i]) < 0.001:\n",
    "        print(input_buffer0[i], '-', input_buffer1[i],  'is roughly', output_buffer1[i])\n",
    "    else:\n",
    "        print('error!', input_buffer0[i], '+', input_buffer1[i], 'should not be', output_buffer1[i])"
   ]
  },
  {
   "cell_type": "code",
   "execution_count": null,
   "id": "f2515878",
   "metadata": {},
   "outputs": [],
   "source": [
    "del input_buffer0\n",
    "del input_buffer1\n",
    "del output_buffer0\n",
    "del output_buffer1\n",
    "del ol"
   ]
  }
 ],
 "metadata": {
  "kernelspec": {
   "display_name": "Python 3 (ipykernel)",
   "language": "python",
   "name": "python3"
  },
  "language_info": {
   "codemirror_mode": {
    "name": "ipython",
    "version": 3
   },
   "file_extension": ".py",
   "mimetype": "text/x-python",
   "name": "python",
   "nbconvert_exporter": "python",
   "pygments_lexer": "ipython3",
   "version": "3.10.4"
  }
 },
 "nbformat": 4,
 "nbformat_minor": 5
}
